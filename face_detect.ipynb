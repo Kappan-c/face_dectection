{
 "cells": [
  {
   "cell_type": "code",
   "execution_count": null,
   "metadata": {},
   "outputs": [],
   "source": [
    "import numpy as np\n",
    "import cv2\n",
    "import dlib\n",
    "\n",
    "detector = dlib.get_frontal_face_detector()\n",
    "# predictor = dlib.shape_predictor(r'./model/shape_predictor_68_face_landmarks.dat')\n",
    "predictor = dlib.shape_predictor(r'./model/shape_predictor_5_face_landmarks.dat')\n",
    "font = 2;    lt = 16            # 利用cv2.putText輸出1-68\n",
    "\n",
    "img = cv2.imread('./image/face68.JFIF')     # cv2讀取影像\n",
    "# img = cv2.imread('./image/lenaColor.png')     # cv2讀取影像\n",
    "img_gray = cv2.cvtColor(img, cv2.COLOR_RGB2GRAY)  # 取灰度\n",
    "\n",
    "rects = detector(img_gray, 0)             # 人臉數rects\n",
    "for i in range(len(rects)):\n",
    "    landmarks = np.matrix([[p.x, p.y] for p in predictor(img, rects[i]).parts()])\n",
    "    # landmarks = np.array([[p.x, p.y] for p in predictor(img,rects[i]).parts()]);   print(landmarks)\n",
    "    for idx, point in enumerate(landmarks):\n",
    "        \n",
    "        pos = (point[0, 0], point[0, 1])   # 68點的座標\n",
    "#         print(idx,pos)\n",
    "\n",
    "        cv2.circle(img, pos, 3, color=(0, 255, 0)) # 利用cv2.circle給每個特徵點畫一個圈，共68個\n",
    "        cv2.putText(img, str(idx+1), pos, font, 0.8, (0, 0, 255), 1, lt)\n",
    "\n",
    "cv2.imshow('img', img)\n",
    "\n",
    "cv2.waitKey(0)\n",
    "cv2.destroyAllWindows()\n",
    "cv2.waitKey(1)"
   ]
  },
  {
   "cell_type": "markdown",
   "metadata": {},
   "source": [
    "### loading"
   ]
  },
  {
   "cell_type": "code",
   "execution_count": null,
   "metadata": {},
   "outputs": [],
   "source": [
    "# 匯入必要的library\n",
    "from scipy.io import loadmat\n",
    "from skimage import io\n",
    "import dlib, os, glob, re\n",
    "from imutils import paths\n",
    "options = dlib.simple_object_detector_training_options()\n",
    "images = [] # 存放相片圖檔\n",
    "boxes = []  # 存放Annotations\n",
    "\n",
    "categories = glob.glob(r'./dlib_ObjectCategories10/**/*.jpg', recursive=True)\n",
    "annotation = glob.glob(r'./dlib_Annotations10/**/ann*.mat', recursive=True)\n",
    "\n",
    "for cate, anno in zip(categories, annotation) :\n",
    "    print(cate, anno)\n",
    "    xywh = loadmat(anno)['box_coord']\n",
    "    # 取出annotations資訊繪成矩形物件，放入boxes變數中。\n",
    "    # (x, y, w, h) = (b.left(), b.top(), b.right(), b.bottom())\n",
    "    bb = [dlib.rectangle(left=int(x), top=int(y), right=int(w), bottom=int(h)) for (y, h, x, w) in xywh]\n",
    "    boxes.append(bb)\n",
    "    images.append(io.imread(cate))          #將圖片放入images變數\n",
    "print('done', len(images), len(boxes))"
   ]
  },
  {
   "cell_type": "markdown",
   "metadata": {},
   "source": [
    "### training"
   ]
  },
  {
   "cell_type": "code",
   "execution_count": null,
   "metadata": {},
   "outputs": [],
   "source": [
    "#丟入三個參數開始訓練\n",
    "options = dlib.simple_object_detector_training_options()\n",
    "print('[INFO] training detector...')\n",
    "detector = dlib.train_simple_object_detector(images, boxes, options)\n",
    " \n",
    "# 將訓練結果匯出到檔案\n",
    "print('[INFO] dumping classifier to file...')\n",
    "detector.save('./dlib_output/model.svm')           # save\n",
    "\n",
    "detector = dlib.simple_object_detector('./dlib_output/model.svm')   # load back\n",
    "\n",
    "# 圖形化顯示 Histogram of Oriented Gradients（簡稱HOG）\n",
    "win = dlib.image_window()\n",
    "win.set_image(detector)\n",
    "# dlib.hit_enter_to_continue()"
   ]
  },
  {
   "cell_type": "markdown",
   "metadata": {},
   "source": [
    "### detect"
   ]
  },
  {
   "cell_type": "code",
   "execution_count": null,
   "metadata": {},
   "outputs": [],
   "source": [
    "import dlib\n",
    "import cv2\n",
    "from imutils import paths\n",
    "#載入訓練好的detector\n",
    "# detector = dlib.simple_object_detector(detector)\n",
    " \n",
    "#載入測試圖片逐張進行\n",
    "# for idx, testingPath in enumerate(paths.list_images('./dlib_ObjectCategories10/accordion')):\n",
    "for idx, testingPath in enumerate(paths.list_images('./dlib_ObjectCategories10/camera')):\n",
    "#讀取圖片並執行dector並產生矩形物件以便用於標記辨識出的部份\n",
    "    image = cv2.imread(testingPath)\n",
    "    boxes = detector(cv2.cvtColor(image, cv2.COLOR_BGR2RGB))\n",
    "\n",
    "    for b in boxes:                    #在圖片上繪出該矩形\n",
    "        (x, y, w, h) = (b.left(), b.top(), b.right(), b.bottom())\n",
    "        cv2.rectangle(image, (x, y), (w, h), (0, 255, 0), 2)\n",
    "\n",
    "    cv2.imshow(str(idx), image)         #顯示圖片\n",
    "cv2.waitKey(0)\n",
    "cv2.destroyAllWindows()\n",
    "cv2.waitKey(1)"
   ]
  }
 ],
 "metadata": {
  "kernelspec": {
   "display_name": "yolo_python3.9",
   "language": "python",
   "name": "python3"
  },
  "language_info": {
   "name": "python",
   "version": "3.10.16"
  }
 },
 "nbformat": 4,
 "nbformat_minor": 2
}
